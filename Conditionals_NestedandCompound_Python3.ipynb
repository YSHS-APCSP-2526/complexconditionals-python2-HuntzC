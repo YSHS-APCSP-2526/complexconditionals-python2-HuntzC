{
  "nbformat": 4,
  "nbformat_minor": 0,
  "metadata": {
    "colab": {
      "provenance": [],
      "include_colab_link": true
    },
    "kernelspec": {
      "name": "python3",
      "display_name": "Python 3"
    },
    "language_info": {
      "name": "python"
    }
  },
  "cells": [
    {
      "cell_type": "markdown",
      "metadata": {
        "id": "view-in-github",
        "colab_type": "text"
      },
      "source": [
        "<a href=\"https://colab.research.google.com/github/YSHS-APCSP-2526/complexconditionals-python2-HuntzC/blob/main/Conditionals_NestedandCompound_Python3.ipynb\" target=\"_parent\"><img src=\"https://colab.research.google.com/assets/colab-badge.svg\" alt=\"Open In Colab\"/></a>"
      ]
    },
    {
      "cell_type": "markdown",
      "source": [
        "#Assignment 3: Complex Conditionals (Nested + Compound)\n",
        "Vocabulary\n",
        "\n",
        "**Nested conditional**: An if inside another if.\n",
        "\n",
        "**Compound condition**: A condition joined with and or or.\n",
        "\n",
        "**Boolean expression**: A statement that is True or False."
      ],
      "metadata": {
        "id": "i33jDObG3GYg"
      }
    },
    {
      "cell_type": "markdown",
      "source": [
        "Walkthrough: Nested and Compound Conditions\n",
        "\n",
        "Here’s a function that checks if someone is eligible to vote:"
      ],
      "metadata": {
        "id": "1DbhWam83XYf"
      }
    },
    {
      "cell_type": "code",
      "execution_count": null,
      "metadata": {
        "id": "HE0LSsXs3DBA"
      },
      "outputs": [],
      "source": [
        "def can_vote(age, citizen):\n",
        "    if age >= 18:\n",
        "        if citizen:\n",
        "            return \"Eligible\"\n",
        "        else:\n",
        "            return \"Not eligible (not a citizen)\"\n",
        "    else:\n",
        "        return \"Not eligible (too young)\"\n"
      ]
    },
    {
      "cell_type": "code",
      "source": [
        "print(can_vote(20, True))   # Eligible\n",
        "print(can_vote(16, True))   # Not eligible (too young)\n",
        "print(can_vote(20, False))  # Not eligible (not a citizen)"
      ],
      "metadata": {
        "colab": {
          "base_uri": "https://localhost:8080/"
        },
        "id": "QnpE5lTh33GU",
        "outputId": "6546200f-7db8-4921-8466-32007a1f9703"
      },
      "execution_count": null,
      "outputs": [
        {
          "output_type": "stream",
          "name": "stdout",
          "text": [
            "Eligible\n",
            "Not eligible (too young)\n",
            "Not eligible (not a citizen)\n"
          ]
        }
      ]
    },
    {
      "cell_type": "markdown",
      "source": [
        "\n",
        "Here’s the same idea using a compound condition:"
      ],
      "metadata": {
        "id": "r3A4k5aI4EMN"
      }
    },
    {
      "cell_type": "code",
      "source": [
        "def can_vote(age, citizen):\n",
        "    if age >= 18 and citizen:\n",
        "        return \"Eligible\"\n",
        "    else:\n",
        "        return \"Not eligible\"\n"
      ],
      "metadata": {
        "id": "xCyeSz5u4KEq"
      },
      "execution_count": null,
      "outputs": []
    },
    {
      "cell_type": "code",
      "source": [
        "print(can_vote(20, True))   # Eligible\n",
        "print(can_vote(16, True))   # Not eligible (too young)\n",
        "print(can_vote(20, False))  # Not eligible (not a citizen)"
      ],
      "metadata": {
        "colab": {
          "base_uri": "https://localhost:8080/"
        },
        "id": "uUnqUKQG4RkC",
        "outputId": "15568aa4-8a25-4169-e7c0-b98c7b846899"
      },
      "execution_count": null,
      "outputs": [
        {
          "output_type": "stream",
          "name": "stdout",
          "text": [
            "Eligible\n",
            "Not eligible\n",
            "Not eligible\n"
          ]
        }
      ]
    },
    {
      "cell_type": "markdown",
      "source": [
        "#Activity 1: Ticket Price\n",
        "\n",
        "Write a function ticket_price(age, is_student) that:\n",
        "\n",
        "Returns 8 if under 12 or if a student.\n",
        "\n",
        "Returns 10 if 12–64 and not a student.\n",
        "\n",
        "Returns 7 if 65 or older.\n",
        "\n",
        "Examples:\n",
        "\n",
        "\n",
        "```\n",
        "\n",
        "print(ticket_price(10, False))  # 8\n",
        "print(ticket_price(20, True))   # 8\n",
        "print(ticket_price(30, False))  # 10\n",
        "print(ticket_price(70, False))  # 7\n",
        "\n",
        "```"
      ],
      "metadata": {
        "id": "rEWODLYA5VL2"
      }
    },
    {
      "cell_type": "code",
      "source": [
        "def ticket_price(age,is_student):\n",
        "  if age<12 or is_student:\n",
        "    return 8\n",
        "  elif 12<=age<=64 and is_student==False:\n",
        "    return 10\n",
        "  else:\n",
        "    return 7\n",
        "\n",
        "print(ticket_price(10, False))\n",
        "print(ticket_price(20, True))\n",
        "print(ticket_price(30, False))\n",
        "print(ticket_price(70, False))"
      ],
      "metadata": {
        "id": "0O12jhe25oxm",
        "outputId": "5fdb262e-6760-4e66-fc27-b00801668d1e",
        "colab": {
          "base_uri": "https://localhost:8080/"
        }
      },
      "execution_count": null,
      "outputs": [
        {
          "output_type": "stream",
          "name": "stdout",
          "text": [
            "8\n",
            "8\n",
            "10\n",
            "7\n"
          ]
        }
      ]
    },
    {
      "cell_type": "markdown",
      "source": [
        "##Activity 2: Triangle Type\n",
        "\n",
        "Write a function triangle_type(a, b, c) that:\n",
        "\n",
        "Returns \"Equilateral\" if all sides are equal.\n",
        "\n",
        "Returns \"Isosceles\" if two sides are equal.\n",
        "\n",
        "Returns \"Scalene\" if all sides are different.\n",
        "\n",
        "\n",
        "\n",
        "```\n",
        "print(triangle_type(3, 3, 3))  # Equilateral\n",
        "print(triangle_type(3, 4, 3))  # Isosceles\n",
        "print(triangle_type(3, 4, 5))  # Scalene\n",
        "```\n",
        "\n"
      ],
      "metadata": {
        "id": "O4mdumeK50aI"
      }
    },
    {
      "cell_type": "code",
      "source": [
        "# write your triangle_type() function here\n",
        "def triangle_type(side1,side2,side3):\n",
        "  if side1==side2==side3:\n",
        "    return \"Equilateral\"\n",
        "  elif side1!=side2!=side3 and side1!=side3!=side2:\n",
        "    return \"Scalene\"\n",
        "  else:\n",
        "    return \"Isosceles\"\n",
        "\n",
        "print(triangle_type(3, 3, 3))\n",
        "print(triangle_type(3, 4, 3))\n",
        "print(triangle_type(3, 4, 5))"
      ],
      "metadata": {
        "id": "oNrREwYc59eD",
        "outputId": "3363da3d-2744-4eab-818b-b4fc3a3dec30",
        "colab": {
          "base_uri": "https://localhost:8080/"
        }
      },
      "execution_count": null,
      "outputs": [
        {
          "output_type": "stream",
          "name": "stdout",
          "text": [
            "Equilateral\n",
            "Isosceles\n",
            "Scalene\n"
          ]
        }
      ]
    },
    {
      "cell_type": "markdown",
      "source": [
        "##Activity 3: Login System\n",
        "\n",
        "Write a function login(username, password) that:\n",
        "\n",
        "Returns \"Access granted\" if username is \"admin\" and password is \"secret\".\n",
        "\n",
        "Returns \"Access denied\" otherwise."
      ],
      "metadata": {
        "id": "Q5LIpRVp6HTI"
      }
    },
    {
      "cell_type": "code",
      "source": [
        "#write your login system function here\n",
        "def login(username,password):\n",
        "  if username=='admin' and password=='secret':\n",
        "    return 'Access granted'\n",
        "  else:\n",
        "    return 'Access denied'\n",
        "\n",
        "print(login('admin','secret'))\n",
        "print(login('admin','secre'))\n",
        "print(login('theUser900','secret'))\n",
        "print(login('25','password'))"
      ],
      "metadata": {
        "id": "wGu-TSbb6OCJ",
        "outputId": "f79d48a6-5e31-4450-e190-f924c7e93eeb",
        "colab": {
          "base_uri": "https://localhost:8080/"
        }
      },
      "execution_count": null,
      "outputs": [
        {
          "output_type": "stream",
          "name": "stdout",
          "text": [
            "Access granted\n",
            "Access denied\n",
            "Access denied\n",
            "Access denied\n"
          ]
        }
      ]
    },
    {
      "cell_type": "markdown",
      "source": [
        "## Activity 4: Rock-Paper-Scissors\n",
        "\n",
        "Write a function rps(player1, player2) where each argument is \"rock\", \"paper\", or \"scissors\".\n",
        "Return:\n",
        "\n",
        "\"Tie\" if both are the same.\n",
        "\n",
        "\"Player 1 wins\" if player 1 beats player 2.\n",
        "\n",
        "\"Player 2 wins\" otherwise.\n",
        "\n",
        "**Extra challenge is to get users to input their selection into the terminal**"
      ],
      "metadata": {
        "id": "RjKsbR6t6ZGa"
      }
    },
    {
      "cell_type": "code",
      "source": [
        "#write your rock_paper_scissors() function here\n",
        "def rps(player1,player2):\n",
        "  if player1==player2:\n",
        "    return 'Tie'\n",
        "  elif player1=='scissors'and player2=='paper':\n",
        "    return 'Player 1 wins'\n",
        "  elif player1=='paper'and player2=='rock':\n",
        "    return 'Player 1 wins'\n",
        "  else:\n",
        "    return 'Player 2 wins'\n",
        "  if player2=='scissors'and player1=='paper':\n",
        "    return 'Player 1 wins'\n",
        "  elif player2=='paper'and player1=='rock':\n",
        "    return 'Player 1 wins'\n",
        "  else:\n",
        "    return 'Player 2 wins'\n",
        "\n",
        "print(rps('rock','paper'))\n",
        "print(rps('scissors','paper'))\n",
        "print(rps('paper','rock'))\n",
        "print(rps('scissors','rock'))\n",
        "print(rps('paper','sissors'))"
      ],
      "metadata": {
        "id": "SDwbpJpF6r5E",
        "outputId": "e179f4ae-9552-42d9-d47d-2d61f9125238",
        "colab": {
          "base_uri": "https://localhost:8080/"
        }
      },
      "execution_count": null,
      "outputs": [
        {
          "output_type": "stream",
          "name": "stdout",
          "text": [
            "Player 2 wins\n",
            "Player 1 wins\n",
            "Player 1 wins\n",
            "Player 2 wins\n",
            "Player 2 wins\n"
          ]
        }
      ]
    },
    {
      "cell_type": "code",
      "source": [],
      "metadata": {
        "id": "tMk_BDyM68Br"
      },
      "execution_count": null,
      "outputs": []
    },
    {
      "cell_type": "markdown",
      "source": [
        "##The Modulo Operator\n",
        "\n",
        "The modulo operator (%) gives the remainder after division.\n",
        "\n",
        "7 % 3 → 1 (because 7 ÷ 3 = 2 remainder 1)\n",
        "\n",
        "10 % 2 → 0 (because 10 ÷ 2 = 5 remainder 0)\n",
        "\n",
        "14 % 5 → 4 (because 14 ÷ 5 = 2 remainder 4)\n",
        "\n",
        "This is useful in many programs, such as checking whether a number is even or odd."
      ],
      "metadata": {
        "id": "ZtDaq_fl68Yi"
      }
    },
    {
      "cell_type": "code",
      "source": [
        "def isEven(n):\n",
        "    if n % 2 == 0:\n",
        "        return True\n",
        "    else:\n",
        "        return False\n",
        "\n",
        "print(isEven(10))  # True\n",
        "print(isEven(7))   # False\n"
      ],
      "metadata": {
        "id": "QWzkLygZ7BjU",
        "outputId": "813ccb4e-9e8b-4a24-94ac-ef55ddbe1b57",
        "colab": {
          "base_uri": "https://localhost:8080/"
        }
      },
      "execution_count": null,
      "outputs": [
        {
          "output_type": "stream",
          "name": "stdout",
          "text": [
            "True\n",
            "False\n"
          ]
        }
      ]
    },
    {
      "cell_type": "markdown",
      "source": [
        "##Activity 5\n",
        "Write a function isMultipleOf3(n) that returns True if n is a multiple of 3, and False otherwise.\n",
        "Test it with at least three different values."
      ],
      "metadata": {
        "id": "NFZI3NpW7GVI"
      }
    },
    {
      "cell_type": "code",
      "source": [
        "# Write isMultipleOf3() function here\n",
        "def isMultipleOf3(n):\n",
        "  if n%3==0:\n",
        "    return True\n",
        "  else:\n",
        "    return False\n",
        "\n",
        "print(isMultipleOf3(33))\n",
        "print(isMultipleOf3(71))\n",
        "print(isMultipleOf3(6))\n",
        "print(isMultipleOf3(8))"
      ],
      "metadata": {
        "id": "we2iu4Yv7INk",
        "outputId": "9ea07cb7-beb6-4660-df4d-ed16a34294ce",
        "colab": {
          "base_uri": "https://localhost:8080/"
        }
      },
      "execution_count": null,
      "outputs": [
        {
          "output_type": "stream",
          "name": "stdout",
          "text": [
            "True\n",
            "False\n",
            "True\n",
            "False\n"
          ]
        }
      ]
    },
    {
      "cell_type": "markdown",
      "source": [
        "##Activity 6: Leap Year\n",
        "\n",
        "Write a function is_leap_year(year) that returns True if a year is a leap year, and False otherwise.\n",
        "A leap year is:\n",
        "*italicized text*\n",
        "Divisible by 4, and\n",
        "\n",
        "Not divisible by 100, unless also divisible by 400.\n",
        "\n",
        "\n",
        "\n",
        "```\n",
        "print(is_leap_year(2000))  # True\n",
        "print(is_leap_year(1900))  # False\n",
        "print(is_leap_year(2024))  # True\n",
        "```\n",
        "\n"
      ],
      "metadata": {
        "id": "G8G53MNb4Wgd"
      }
    },
    {
      "cell_type": "code",
      "source": [
        "def isLeapYear(year):\n",
        "  if year%4==0 and year%100!=0:\n",
        "    return True\n",
        "  elif year%4==0 and year%100==0 and year%400==0:\n",
        "    return True\n",
        "  else:\n",
        "    return False\n",
        "\n",
        "print(isLeapYear(2000))  # True\n",
        "print(isLeapYear(1900))  # False\n",
        "print(isLeapYear(2024))  # True"
      ],
      "metadata": {
        "id": "GkiUHmV-4b-n",
        "colab": {
          "base_uri": "https://localhost:8080/"
        },
        "outputId": "b9f8bbe4-6d6c-4aab-9325-006b93c22bbf"
      },
      "execution_count": null,
      "outputs": [
        {
          "output_type": "stream",
          "name": "stdout",
          "text": [
            "True\n",
            "False\n",
            "True\n"
          ]
        }
      ]
    },
    {
      "cell_type": "markdown",
      "source": [
        "##Randomness\n",
        "\n",
        "Sometimes we want our program to behave differently each time it runs. Python has a random module that helps us do this.\n",
        "\n",
        "First, we import it at the top of our code:\n",
        "\n",
        "\n",
        "\n",
        "```\n",
        "import random\n",
        "```\n",
        "Below is an example function that incorporates randomness called random number\n"
      ],
      "metadata": {
        "id": "1AAtGZgQ_Ny6"
      }
    },
    {
      "cell_type": "code",
      "source": [
        "import random\n",
        "\n",
        "def randomDice():\n",
        "    roll = random.randint(1, 6)   # gives a random number from 1 to 6 (inclusive)\n",
        "    return roll\n",
        "\n",
        "print(randomDice())\n",
        "print(randomDice())\n"
      ],
      "metadata": {
        "colab": {
          "base_uri": "https://localhost:8080/"
        },
        "id": "hO8JIZWx_wSx",
        "outputId": "ed7f0f06-8e79-4c18-e11f-86a419935c20"
      },
      "execution_count": null,
      "outputs": [
        {
          "output_type": "stream",
          "name": "stdout",
          "text": [
            "5\n",
            "3\n"
          ]
        }
      ]
    },
    {
      "cell_type": "markdown",
      "source": [
        "##Activity 7: Random Even Number\n",
        "Write a function randomEven() that returns a random even number between 2 and 20.\n",
        "(Hint: You can use random.randint(1, 10) and then multiply the result by 2.)\n",
        "\n",
        "Example:\n",
        "\n",
        "```\n",
        "print(randomEven())  # could be 2, 4, 6, …, 20\n",
        "```\n"
      ],
      "metadata": {
        "id": "bcJ5-epU7H7z"
      }
    },
    {
      "cell_type": "code",
      "source": [
        "#Write randomEven() here\n",
        "import random\n",
        "def randomEven():\n",
        "  n=random.randint(1,10)*2\n",
        "  return n\n",
        "print(randomEven())\n",
        "print(randomEven())\n",
        "print(randomEven())\n",
        "print(randomEven())\n",
        "print(randomEven())\n",
        "print(randomEven())"
      ],
      "metadata": {
        "id": "EvqoHaVIAGcT",
        "colab": {
          "base_uri": "https://localhost:8080/"
        },
        "outputId": "ab27f1df-1c68-44ef-dda7-e710ae5845ea"
      },
      "execution_count": null,
      "outputs": [
        {
          "output_type": "stream",
          "name": "stdout",
          "text": [
            "6\n",
            "20\n",
            "2\n",
            "20\n",
            "6\n",
            "20\n"
          ]
        }
      ]
    },
    {
      "cell_type": "markdown",
      "source": [
        "##Activity 8: Random Password Helper\n",
        "\n",
        "Write a function randomChar() that returns a random lowercase letter between 'a' and 'z'.\n",
        "(Hint: Use random.randint(97, 122) to pick a Unicode number, and then chr() to turn it into a letter.)\n",
        "\n",
        "\n",
        "\n",
        "```\n",
        "print(randomChar())  # could be 'q'\n",
        "print(randomChar())  # could be 'm'\n",
        "\n",
        "```\n",
        "\n"
      ],
      "metadata": {
        "id": "bxQKB6zuAO5W"
      }
    },
    {
      "cell_type": "code",
      "source": [
        "# write the randomChar() function here\n",
        "import random\n",
        "def randomChar():\n",
        "  char=chr(random.randint(97,122))\n",
        "  return char\n",
        "\n",
        "print(randomChar())\n",
        "print(randomChar())\n",
        "print(randomChar())\n",
        "print(randomChar())\n",
        "print(randomChar())\n",
        "print(randomChar())\n",
        "print(randomChar())\n",
        "print(randomChar())\n",
        "print(randomChar())\n",
        "print(randomChar())\n",
        "print(randomChar())"
      ],
      "metadata": {
        "id": "nLcg4jAkAmMa",
        "colab": {
          "base_uri": "https://localhost:8080/"
        },
        "outputId": "97501dc5-4c7b-4111-cd48-b25777efb11b"
      },
      "execution_count": null,
      "outputs": [
        {
          "output_type": "stream",
          "name": "stdout",
          "text": [
            "d\n",
            "e\n",
            "r\n",
            "q\n",
            "f\n",
            "y\n",
            "h\n",
            "z\n",
            "y\n",
            "t\n",
            "k\n"
          ]
        }
      ]
    },
    {
      "cell_type": "markdown",
      "source": [
        "##Activity 9: Hack it\n",
        "\n",
        "Incorporate the main ideas from this activity and make a function that does something!"
      ],
      "metadata": {
        "id": "VDlrFC4nAt8M"
      }
    },
    {
      "cell_type": "code",
      "source": [
        "import random\n",
        "\n",
        "tries = 1\n",
        "\n",
        "def guess():\n",
        "  print(' ')\n",
        "  print('Type your guess:')\n",
        "  print('Try #',tries)\n",
        "  guess = int(input())\n",
        "  return guess\n",
        "\n",
        "password = random.randint(11111,99999)\n",
        "\n",
        "print('Guess 5 Numbers using digits 0-9 in 10 tries')\n",
        "\n",
        "on=True\n",
        "while on:\n",
        "  if tries==10:\n",
        "    print('You ran out of guesses and lose')\n",
        "    on=False\n",
        "  if g==password:\n",
        "    print('You Win')\n",
        "    print(\"On try\",tries)\n",
        "    on=False\n",
        "  elif tries==0:\n",
        "    g=guess()\n",
        "    tries+=1\n",
        "  elif g>password:\n",
        "    print('You are high')\n",
        "    g=guess()\n",
        "    tries += 1\n",
        "  elif g<password:\n",
        "    print('You are low')\n",
        "    g=guess()\n",
        "    tries += 1\n"
      ],
      "metadata": {
        "id": "72LPdi47E9ZV",
        "outputId": "e74290d8-4d68-452a-cf26-0e35b804744e",
        "colab": {
          "base_uri": "https://localhost:8080/"
        }
      },
      "execution_count": null,
      "outputs": [
        {
          "output_type": "stream",
          "name": "stdout",
          "text": [
            "16464\n",
            "Guess 5 Numbers using digits 0-9 in 10 tries\n",
            "You are low\n",
            " \n",
            "Type your guess:\n",
            "Try # 1\n",
            "16464\n",
            "You Win\n",
            "On try 2\n"
          ]
        }
      ]
    },
    {
      "cell_type": "code",
      "source": [],
      "metadata": {
        "id": "0aRdRqR3zoNX"
      },
      "execution_count": null,
      "outputs": []
    }
  ]
}