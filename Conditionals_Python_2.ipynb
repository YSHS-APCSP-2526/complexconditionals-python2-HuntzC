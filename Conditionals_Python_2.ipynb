{
  "nbformat": 4,
  "nbformat_minor": 0,
  "metadata": {
    "colab": {
      "provenance": [],
      "include_colab_link": true
    },
    "kernelspec": {
      "name": "python3",
      "display_name": "Python 3"
    },
    "language_info": {
      "name": "python"
    }
  },
  "cells": [
    {
      "cell_type": "markdown",
      "metadata": {
        "id": "view-in-github",
        "colab_type": "text"
      },
      "source": [
        "<a href=\"https://colab.research.google.com/github/YSHS-APCSP-2526/complexconditionals-python2-HuntzC/blob/main/Conditionals_Python_2.ipynb\" target=\"_parent\"><img src=\"https://colab.research.google.com/assets/colab-badge.svg\" alt=\"Open In Colab\"/></a>"
      ]
    },
    {
      "cell_type": "markdown",
      "source": [
        "#Assignment 2: Conditionals with if, elif, and else\n"
      ],
      "metadata": {
        "id": "aO-C3JKBD-et"
      }
    },
    {
      "cell_type": "markdown",
      "source": [
        "##Vocabulary\n",
        "\n",
        "**Function**: A reusable block of code with a name.\n",
        "\n",
        "**Parameter**: A variable you pass into a function so it can use it.\n",
        "\n",
        "**Argument**: The actual value you give to the parameter when you call a function.\n",
        "\n",
        "**Return value**: What a function gives back to the code that called it.\n",
        "\n",
        "*Conditional*: A statement that checks a condition (like if) to decide what code runs."
      ],
      "metadata": {
        "id": "Nop4M_UREHtP"
      }
    },
    {
      "cell_type": "markdown",
      "source": [
        "Walkthrough: If/Elif/Else in a Function\n",
        "\n",
        "Here’s a function that decides what size a drink is based on ounces:"
      ],
      "metadata": {
        "id": "F6WZxrn2EYcc"
      }
    },
    {
      "cell_type": "code",
      "execution_count": null,
      "metadata": {
        "id": "-Tn0oz7OD44H"
      },
      "outputs": [],
      "source": [
        "def drink_size(ounces):\n",
        "    if ounces < 12:\n",
        "        return \"Small\"\n",
        "    elif ounces < 20:\n",
        "        return \"Medium\"\n",
        "    else:\n",
        "        return \"Large\"\n"
      ]
    },
    {
      "cell_type": "code",
      "source": [
        "# Try it out\n",
        "print(drink_size(8))   # Small\n",
        "print(drink_size(16))  # Medium\n",
        "print(drink_size(24))  # Large"
      ],
      "metadata": {
        "colab": {
          "base_uri": "https://localhost:8080/"
        },
        "id": "snkcb6BiEdN1",
        "outputId": "22559b2e-8525-4486-9df5-50973721217b"
      },
      "execution_count": null,
      "outputs": [
        {
          "output_type": "stream",
          "name": "stdout",
          "text": [
            "Small\n",
            "Medium\n",
            "Large\n"
          ]
        }
      ]
    },
    {
      "cell_type": "markdown",
      "source": [
        "Notice:\n",
        "\n",
        "The function takes in a parameter (ounces).\n",
        "\n",
        "We use if, elif, and else to decide what value to return.\n",
        "\n",
        "When we call the function, we pass in an argument."
      ],
      "metadata": {
        "id": "EChvM6cFEkgs"
      }
    },
    {
      "cell_type": "markdown",
      "source": [
        "##Activities\n",
        "**Activity 1: Pass/Fail**\n",
        "\n",
        "Write a function pass_fail(score) that:\n",
        "\n",
        "Returns \"Pass\" if the score is 60 or higher.\n",
        "\n",
        "Returns \"Fail\" otherwise.\n",
        "\n",
        "Example:\n",
        "\n",
        "\n",
        "```\n",
        "\n",
        "print(pass_fail(85))  # Pass\n",
        "print(pass_fail(40))  # Fail\n",
        "```"
      ],
      "metadata": {
        "id": "JSwGNtA2ErwU"
      }
    },
    {
      "cell_type": "code",
      "source": [
        "def passFail(score):\n",
        "  if score>=60:\n",
        "    print('Pass')\n",
        "  elif score<60:\n",
        "    print('Fail')\n",
        "\n",
        "passFail(50)\n",
        "passFail(60)\n",
        "passFail(90)"
      ],
      "metadata": {
        "id": "AsKDp1V3E3Uc",
        "colab": {
          "base_uri": "https://localhost:8080/"
        },
        "outputId": "d2f75807-37eb-4571-c5ac-43a963d9393b"
      },
      "execution_count": null,
      "outputs": [
        {
          "output_type": "stream",
          "name": "stdout",
          "text": [
            "Fail\n",
            "Pass\n",
            "Pass\n"
          ]
        }
      ]
    },
    {
      "cell_type": "markdown",
      "source": [
        "##Activity 2: Letter Grades\n",
        "Write a function letter_grade(score) that returns a letter grade using the following rules:\n",
        "\n",
        "90 and above → \"A\"\n",
        "\n",
        "80–89 → \"B\"\n",
        "\n",
        "70–79 → \"C\"\n",
        "\n",
        "60–69 → \"D\"\n",
        "\n",
        "Below 60 → \"F\"\n",
        "\n",
        "Example:\n",
        "\n",
        "\n",
        "```\n",
        "print(letter_grade(95))  # A\n",
        "print(letter_grade(73))  # C\n",
        "print(letter_grade(50))  # F\n",
        "```"
      ],
      "metadata": {
        "id": "gQBiX3yOFKxe"
      }
    },
    {
      "cell_type": "code",
      "source": [
        "def letterGrade(score):\n",
        "  if score>=90:\n",
        "    print('A')\n",
        "  elif 80<=score<=89:\n",
        "    print('B')\n",
        "  elif 70<=score<=79:\n",
        "    print('C')\n",
        "  elif 60<=score<=69:\n",
        "    print('D')\n",
        "  elif score<60:\n",
        "    print('f')\n",
        "\n",
        "#Tests\n",
        "letterGrade(92)\n",
        "letterGrade(84)\n",
        "letterGrade(75)\n",
        "letterGrade(60)\n",
        "letterGrade(35)\n",
        "letterGrade(100000)"
      ],
      "metadata": {
        "id": "LaVU3awRFqY-",
        "colab": {
          "base_uri": "https://localhost:8080/"
        },
        "outputId": "93256bf5-cf29-4518-966a-332cd7ef3324"
      },
      "execution_count": null,
      "outputs": [
        {
          "output_type": "stream",
          "name": "stdout",
          "text": [
            "A\n",
            "B\n",
            "C\n",
            "D\n",
            "f\n",
            "A\n"
          ]
        }
      ]
    },
    {
      "cell_type": "markdown",
      "source": [
        "##Activity 3: Temperature Check\n",
        "\n",
        "Write a function describe_temp(temp) that:\n",
        "\n",
        "Returns \"Cold\" if below 50.\n",
        "\n",
        "Returns \"Warm\" if 50–79.\n",
        "\n",
        "Returns \"Hot\" if 80 or above.\n",
        "\n",
        "Example:\n",
        "\n",
        "\n",
        "```\n",
        "print(describe_temp(30))  # Cold\n",
        "print(describe_temp(65))  # Warm\n",
        "print(describe_temp(95))  # Hot\n",
        "```"
      ],
      "metadata": {
        "id": "SPbJH-sdFx9C"
      }
    },
    {
      "cell_type": "code",
      "source": [
        "def descTemp(temp):\n",
        "  if temp<50:\n",
        "    print('Cold')\n",
        "  if 50<=temp<=79:\n",
        "    print('Warm')\n",
        "  if temp>=80:\n",
        "    print('Hot')\n",
        "\n",
        "#Tests\n",
        "descTemp(60)\n",
        "descTemp(65)\n",
        "descTemp(75)\n",
        "descTemp(80)\n",
        "descTemp(100)\n",
        "descTemp(10)\n",
        "descTemp(50)"
      ],
      "metadata": {
        "id": "E9YE3ndFF9AF",
        "colab": {
          "base_uri": "https://localhost:8080/"
        },
        "outputId": "017fe40d-ea8e-48be-8e8d-171796690614"
      },
      "execution_count": null,
      "outputs": [
        {
          "output_type": "stream",
          "name": "stdout",
          "text": [
            "Warm\n",
            "Warm\n",
            "Warm\n",
            "Hot\n",
            "Hot\n",
            "Cold\n",
            "Warm\n"
          ]
        }
      ]
    },
    {
      "cell_type": "markdown",
      "source": [
        "##Activity 4: Movie Ratings\n",
        "\n",
        "Write a function movie_rating(age) that:\n",
        "\n",
        "Returns \"G\" if age is under 10.\n",
        "\n",
        "Returns \"PG-13\" if age is 10–12.\n",
        "\n",
        "Returns \"PG-16\" if age is 13–15.\n",
        "\n",
        "Returns \"R\" if age is 16 or older."
      ],
      "metadata": {
        "id": "X9_8g5-sF8kr"
      }
    },
    {
      "cell_type": "code",
      "source": [
        "def movieRating(age):\n",
        "  if age<10:\n",
        "    print('G')\n",
        "  elif 10<=age<=12:\n",
        "    print('PG-13')\n",
        "  elif 13<=age<=15:\n",
        "    print('PG-16')\n",
        "  elif age>=16:\n",
        "    print('R')\n",
        "\n",
        "#Tests\n",
        "movieRating(2)\n",
        "movieRating(10)\n",
        "movieRating(15)\n",
        "movieRating(20)"
      ],
      "metadata": {
        "id": "DWXQ_2gEGWjG",
        "colab": {
          "base_uri": "https://localhost:8080/"
        },
        "outputId": "68f5963c-9030-44bc-c4bf-ad9834e6c60f"
      },
      "execution_count": null,
      "outputs": [
        {
          "output_type": "stream",
          "name": "stdout",
          "text": [
            "G\n",
            "PG-13\n",
            "PG-16\n",
            "R\n"
          ]
        }
      ]
    },
    {
      "cell_type": "markdown",
      "source": [
        "##Activity 5: Alarm Clock\n",
        "\n",
        "Write a function alarm(day, vacation) where:\n",
        "\n",
        "day is an integer (0 = Sunday, 1 = Monday, …, 6 = Saturday).\n",
        "\n",
        "vacation is a boolean (True or False).\n",
        "\n",
        "Rules:\n",
        "\n",
        "Weekdays (1–5): return \"7:00\"\n",
        "\n",
        "Weekends (0 or 6): return \"10:00\"\n",
        "\n",
        "On vacation:\n",
        "\n",
        "Weekdays → \"10:00\"\n",
        "\n",
        "Weekends → \"off\""
      ],
      "metadata": {
        "id": "WLD5NSb_GaHh"
      }
    },
    {
      "cell_type": "code",
      "source": [
        "Sunday=0\n",
        "Monday=1\n",
        "Tuesday=2\n",
        "Wednesday=3\n",
        "Thursday=4\n",
        "Friday=5\n",
        "Saterday=6\n",
        "\n",
        "def alarm(day,vacation):\n",
        "  if 1<=day<=5 and vacation==False:\n",
        "    print('7:00')\n",
        "  elif day==0 or 6 and vacation==False:\n",
        "    print('10:00')\n",
        "  elif 1<=day<=5 and vacation==True:\n",
        "    print('10:00')\n",
        "  elif day==0 or 6 and vacation==True:\n",
        "    print('off')\n",
        "\n",
        "#Tests\n",
        "alarm(Wednesday,True)\n",
        "alarm(Tuesday,False)\n",
        "alarm(Saterday,True)\n",
        "alarm(Sunday,False)"
      ],
      "metadata": {
        "id": "_BvFi8nFGiLo",
        "colab": {
          "base_uri": "https://localhost:8080/"
        },
        "outputId": "b05e56e9-ef64-4208-e3b0-f35e2284aab1"
      },
      "execution_count": null,
      "outputs": [
        {
          "output_type": "stream",
          "name": "stdout",
          "text": [
            "10:00\n",
            "7:00\n",
            "off\n",
            "10:00\n"
          ]
        }
      ]
    },
    {
      "cell_type": "markdown",
      "source": [
        "#Hack It\n",
        "Make your own function that has at least two parameters and has an if/elif/else statement whose output changes depending on the arguments passed to the parameters."
      ],
      "metadata": {
        "id": "QFuORTHAGlrR"
      }
    },
    {
      "cell_type": "code",
      "source": [
        "def lock(name,code):\n",
        "  if name=='Huntzc09' and code==12345:\n",
        "    print('Correct! You May Enter.')\n",
        "  elif name!='Huntzc09' and code==12345:\n",
        "    print('Wrong Username.')\n",
        "  elif name=='Huntzc09' and code!=12345:\n",
        "    print('Wrong Code.')\n",
        "  else:\n",
        "    print('Wrong Username and Code.')\n",
        "\n",
        "lock('Huntzc09',12345)\n",
        "lock('zc09',12345)\n",
        "lock('Huntzc09',12354)\n",
        "lock('Cayden',98765)"
      ],
      "metadata": {
        "id": "PNDQCK8lG1We",
        "colab": {
          "base_uri": "https://localhost:8080/"
        },
        "outputId": "2e7e462e-a1e2-40e0-d3c0-80fa858258f4"
      },
      "execution_count": 7,
      "outputs": [
        {
          "output_type": "stream",
          "name": "stdout",
          "text": [
            "Correct! You May Enter.\n",
            "Wrong Username.\n",
            "Wrong Code.\n",
            "Wrong Username and Code.\n"
          ]
        }
      ]
    }
  ]
}